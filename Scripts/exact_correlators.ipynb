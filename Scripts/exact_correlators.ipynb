{
 "cells": [
  {
   "cell_type": "code",
   "execution_count": 1,
   "metadata": {},
   "outputs": [
    {
     "data": {
      "text/html": [
       "<style>.container { width:100% !important; }</style>"
      ],
      "text/plain": [
       "<IPython.core.display.HTML object>"
      ]
     },
     "metadata": {},
     "output_type": "display_data"
    }
   ],
   "source": [
    "import numpy as np\n",
    "\n",
    "%matplotlib inline\n",
    "import matplotlib.pyplot as plt\n",
    "import scipy as sc\n",
    "import h5py as h5\n",
    "import yaml\n",
    "from IPython.display import display, HTML\n",
    "\n",
    "display(HTML(\"<style>.container { width:100% !important; }</style>\"))\n",
    "#numpy print options\n",
    "np.set_printoptions(precision=5)"
   ]
  },
  {
   "cell_type": "markdown",
   "metadata": {},
   "source": [
    "## Setup"
   ]
  },
  {
   "cell_type": "code",
   "execution_count": 5,
   "metadata": {},
   "outputs": [
    {
     "name": "stdout",
     "output_type": "stream",
     "text": [
      "Lattice: 1x2 Honeycomb\n",
      "Nt:      32\n",
      "beta:    8.0\n",
      "U:       2.0\n",
      "mu:      0\n"
     ]
    }
   ],
   "source": [
    "lat_file = \"../build/Executables/Examples/example_param_four_sites.yml\"\n",
    "#read yaml file\n",
    "with open(lat_file, 'r') as stream:\n",
    "    system = yaml.safe_load(stream)[\"system\"]\n",
    "    name = system[\"name\"]\n",
    "    nx = system[\"nions\"]\n",
    "    nt = system[\"Nt\"]\n",
    "    beta = system[\"beta\"]\n",
    "    delta = beta/nt\n",
    "    U = system[\"U\"]\n",
    "    mu = system[\"mu\"]\n",
    "    adjacency = system[\"adjacency\"]\n",
    "    hopping = system[\"hopping\"]\n",
    "    positions = system[\"positions\"]\n",
    "print(f\"Lattice: {name}\")\n",
    "print(f\"Nt:      {nt}\")\n",
    "print(f\"beta:    {beta}\")\n",
    "print(f\"U:       {U}\")\n",
    "print(f\"mu:      {mu}\")\n",
    "\n",
    "hop = np.zeros((nx, nx))\n",
    "for n, (i, j) in enumerate(adjacency):\n",
    "    hop[i, j] = hopping[n]\n",
    "    hop[j, i] = hopping[n]"
   ]
  },
  {
   "cell_type": "markdown",
   "metadata": {},
   "source": [
    "## Compute Eigenenergies"
   ]
  },
  {
   "cell_type": "code",
   "execution_count": 6,
   "metadata": {},
   "outputs": [],
   "source": [
    "def count_set_bits(n):\n",
    "    count = 0\n",
    "    while n:\n",
    "        count += n & 1\n",
    "        n >>= 1\n",
    "    return count\n",
    "\n",
    "\n",
    "def count_flips(state, x, y):\n",
    "    if x > y:\n",
    "        x, y = y, x\n",
    "    count = 0\n",
    "    state >>= x + 1\n",
    "    for i in range(y - x):\n",
    "        count += state & 1\n",
    "        state >>= 1\n",
    "    return count\n",
    "from scipy.special import comb"
   ]
  },
  {
   "cell_type": "code",
   "execution_count": 7,
   "metadata": {},
   "outputs": [],
   "source": [
    "eps, UH = np.linalg.eigh(hop)\n",
    "# print(hop)\n",
    "sub_basis = [[] for _ in range(nx + 1)]\n",
    "momentum = [[] for _ in range(nx + 1)]\n",
    "for state in range(2**nx):\n",
    "    count = count_set_bits(state)\n",
    "    sub_basis[count].append(state)\n",
    "    # momentum[count].append(state == shift_state(state, nx))\n",
    "\n",
    "hoppings = [[] for _ in range(nx + 1)]\n",
    "for n in range(nx + 1):\n",
    "    for index, state in enumerate(sub_basis[n]):\n",
    "        for x in range(nx):\n",
    "            ind = 2**x\n",
    "            if state & ind == ind:\n",
    "                for y in range(x, nx):\n",
    "                    if hop[x, y] != 0.0:\n",
    "                        ind2 = 2**y\n",
    "                        if state & ind2 == 0:\n",
    "                            state2 = state - ind + ind2\n",
    "                            out_index = np.where(np.array(sub_basis[n]) == state2)[0][0]\n",
    "                            sign = (-1) ** count_flips(state, x, y)\n",
    "                            hoppings[n].append((index, out_index, sign * hop[x, y]))\n",
    "# print(sub_basis[2])\n",
    "# print(hoppings[2])\n",
    "Es0 = [[[] for _ in range(nx + 1)] for _ in range(nx + 1)]\n",
    "Ls = [[[] for _ in range(nx + 1)] for _ in range(nx + 1)]\n",
    "for nu in range(nx + 1):\n",
    "    cu = int(comb(nx, nu))\n",
    "    for nd in range(nx + 1):\n",
    "        cd = int(comb(nx, nd))\n",
    "        cn = cu * cd\n",
    "        H = np.zeros((cn, cn))\n",
    "        K = np.zeros((cn, cn))\n",
    "        V = np.zeros((cn, cn))\n",
    "        # basis = []\n",
    "        for u, stateu in enumerate(sub_basis[nu]):\n",
    "            for d, stated in enumerate(sub_basis[nd]):\n",
    "                index = u * cd + d\n",
    "                # basis.append(momentum[nu][u] and momentum[nd][d])\n",
    "                overlap = count_set_bits(stateu & stated)\n",
    "                V[index, index] = U * overlap\n",
    "        for index1, index2, amp in hoppings[nu]:\n",
    "            for d, stated in enumerate(sub_basis[nd]):\n",
    "                K[index1 * cd + d, index2 * cd + d] = -amp  # *0.5\n",
    "                K[index2 * cd + d, index1 * cd + d] = -amp  # *0.5\n",
    "        for index1, index2, amp in hoppings[nd]:\n",
    "            for u, stateu in enumerate(sub_basis[nu]):\n",
    "                K[u * cd + index1, u * cd + index2] = -amp  # *0.5\n",
    "                K[u * cd + index2, u * cd + index1] = -amp  # *0.5\n",
    "        H = K + V\n",
    "        # eigs = np.linalg.eigvalsh(H)\n",
    "        eigs, eigv = np.linalg.eigh(H)\n",
    "        eigs = eigs - (nu + nd) * U / 2\n",
    "\n",
    "        #! Something goes wrong here for non bipartite lattices\n",
    "        A = sc.linalg.expm(-K * delta / 2)\n",
    "        B = sc.linalg.expm(-V * delta)\n",
    "        C = np.matmul(A, B)\n",
    "        C = np.matmul(C, A)\n",
    "        eigs = -np.log(np.linalg.eigvalsh(C) ** nt) / beta - (nu + nd) * U / 2\n",
    "\n",
    "        Es0[nu][nd] = eigs\n",
    "        Ls[nu][nd] = eigv.T"
   ]
  },
  {
   "cell_type": "code",
   "execution_count": 8,
   "metadata": {},
   "outputs": [],
   "source": [
    "Es = [[[] for _ in range(nx + 1)] for _ in range(nx + 1)]\n",
    "for nu in range(nx + 1):\n",
    "    for nd in range(nx + 1):\n",
    "        Es[nu][nd] = Es0[nu][nd] + (nu + nd) * mu"
   ]
  },
  {
   "cell_type": "markdown",
   "metadata": {},
   "source": [
    "## Overlaps\n"
   ]
  },
  {
   "cell_type": "code",
   "execution_count": 9,
   "metadata": {},
   "outputs": [],
   "source": [
    "# function that takes integer, shifts bits by two positions (loop with given modulus) and returns new interger\n",
    "def shift_state(state, n, shifts={0: 2, 1: 3, 2: 0, 3: 1}):\n",
    "    bits = [int((state & 2**i) > 0) for i in range(n)]\n",
    "    bits_out = [bits[shifts[i]] for i in range(n)]\n",
    "    return sum([bits_out[i] * 2**i for i in range(n)])\n",
    "\n",
    "class bits_c:\n",
    "    def __init__(self, n):\n",
    "        self.n = n\n",
    "\n",
    "    def __call__(self, state: list) -> int:\n",
    "        return sum([state[i] * 2**i for i in range(self.n)])\n",
    "\n",
    "    def __getitem__(self, state: int) -> list:\n",
    "        return [(state & 2**i) > 0 for i in range(self.n)]\n",
    "\n",
    "def c_x(n, x):\n",
    "    bits = bits_c(nx)\n",
    "    basis_from = sub_basis[n]\n",
    "    # print(basis_from)\n",
    "    basis_to = sub_basis[n - 1]\n",
    "    # print(basis_to)\n",
    "    reverse_map = {state: index for index, state in enumerate(basis_to)}\n",
    "    out = np.zeros((len(basis_to), len(basis_from)))\n",
    "    # print(out)\n",
    "    for i, state in enumerate(basis_from):\n",
    "        stateb = bits[state]\n",
    "        if stateb[x]:\n",
    "            stateb[x] = False\n",
    "            state_out = bits(stateb)\n",
    "            j = reverse_map[state_out]\n",
    "            factor = 1\n",
    "            for y in range(0, x):\n",
    "                if stateb[y]:\n",
    "                    factor *= -1\n",
    "            out[j, i] = factor\n",
    "    return out\n",
    "\n",
    "# def c(n):\n",
    "#     # Quickfix\n",
    "#     c_xs = [c_x(n, x) for x in range(nx)]\n",
    "#     c_k0p = (c_xs[0] + c_xs[1] + c_xs[2] + c_xs[3]) / 4\n",
    "#     c_k0m = (c_xs[0] - c_xs[1] + c_xs[2] - c_xs[3]) / 4\n",
    "#     c_k1p = (c_xs[0] + c_xs[1] - c_xs[2] - c_xs[3]) / 4\n",
    "#     c_k1m = (c_xs[0] - c_xs[1] - c_xs[2] + c_xs[3]) / 4\n",
    "#     return c_k0p, c_k0m, c_k1p, c_k1m\n",
    "\n",
    "def c(n):\n",
    "    # transform = np.array([0, 0, -0.866025403784439, -0.5, -0.577350269189626, -0.577350269189626, 0.288675134594813, -0.5, 0.788675134594813, -0.211324865405187, 0.288675134594813, -0.5, -0.211324865405187, 0.788675134594813, 0.288675134594813, -0.5]).reshape((4,4)) #tetrahedron\n",
    "    # transform = np.array([0.5, 0.5, 0.5, -0.5, -0.5, 0.5, -0.5, -0.5, 0.5, -0.5, -0.5, -0.5, -0.5, -0.5, 0.5, -0.5]).reshape((4,4)) #four sites\n",
    "    # transform = transform[[0,2,3,1]]\n",
    "    transform = UH  #! maybe transpose\n",
    "    c_xs = [c_x(n, x) for x in range(nx)]\n",
    "    c_ks = [\n",
    "        np.sum([c_xs[i] * transform[i, j] for i in range(nx)], axis=0)\n",
    "        for j in range(nx)\n",
    "    ]\n",
    "    return c_ks"
   ]
  },
  {
   "cell_type": "code",
   "execution_count": 10,
   "metadata": {},
   "outputs": [],
   "source": [
    "def overlapGS(nu, nd, mu=0.0):\n",
    "    out = []\n",
    "    state_in = Ls[nu][nd][0]\n",
    "    state_in = state_in.reshape(len(sub_basis[nu]), len(sub_basis[nd]))\n",
    "    # applying to spin up\n",
    "    states_out = Ls[nu - 1][nd]\n",
    "    states_out = [\n",
    "        state.reshape(len(sub_basis[nu - 1]), len(sub_basis[nd]))\n",
    "        for state in states_out\n",
    "    ]\n",
    "    dEs = np.array(Es[nu - 1][nd]) - Es[nu][nd][0] - mu\n",
    "    for c_k in c(nu):\n",
    "        overlaps = np.einsum(\"nzd, zu, ud -> n\", states_out, c_k, state_in) ** 2\n",
    "        out.append(np.array([*list(zip(dEs, overlaps))]))\n",
    "\n",
    "    state_out = state_in\n",
    "    states_in = Ls[nu + 1][nd]\n",
    "    states_in = [\n",
    "        state.reshape(len(sub_basis[nu + 1]), len(sub_basis[nd])) for state in states_in\n",
    "    ]\n",
    "    dEs = -np.array(Es[nu + 1][nd]) + Es[nu][nd][0] - mu\n",
    "    for c_k in c(nu + 1):\n",
    "        overlaps = np.einsum(\"ud, uz, nzd -> n\", state_out, c_k, states_in) ** 2\n",
    "        out.append(np.array([*list(zip(dEs, overlaps))]))\n",
    "    return [\n",
    "        [k, oo[1] * np.exp(-np.abs(oo[0])), oo[0]]\n",
    "        for k, o in enumerate(out)\n",
    "        for oo in o\n",
    "    ]\n",
    "\n",
    "def overlap(nu, nd):\n",
    "    states_in = Ls[nu][nd]\n",
    "    states_in = [\n",
    "        state.reshape(len(sub_basis[nu]), len(sub_basis[nd])) for state in states_in\n",
    "    ]\n",
    "    # applying to spin up\n",
    "    states_out = Ls[nu - 1][nd]\n",
    "    states_out = [\n",
    "        state.reshape(len(sub_basis[nu - 1]), len(sub_basis[nd]))\n",
    "        for state in states_out\n",
    "    ]\n",
    "    out = []\n",
    "    for c_k in c(nu):\n",
    "        # print(np.shape(states_out), np.shape(c_k), np.shape(states_in))\n",
    "        out.append(np.einsum(\"nzd, zu, mud -> nm\", states_out, c_k, states_in) ** 2)\n",
    "    # applying to spin down\n",
    "    # states_out = Ls[nu][nd - 1]\n",
    "    # for c_k in c(nd):\n",
    "    #     states_out = [\n",
    "    #         state.reshape(len(sub_basis[nu]), len(sub_basis[nd - 1]))\n",
    "    #         for state in states_out\n",
    "    #     ]\n",
    "    #     print(np.einsum(\"nuz, zd, ud -> n\", states_out, c_k, state_in) ** 2)\n",
    "    return out"
   ]
  },
  {
   "cell_type": "code",
   "execution_count": 11,
   "metadata": {},
   "outputs": [],
   "source": [
    "\n",
    "# beta = 6.0\n",
    "# nt = 256 + 1\n",
    "delta = beta / nt\n",
    "nts = np.arange(nt+1)\n",
    "expnts = np.exp(-nts * delta)\n",
    "expntsb = np.exp(nts * delta - beta)\n",
    "corrs = np.zeros((nx, nt+1))\n",
    "Z = 0\n",
    "for nu in range(1, nx + 1):\n",
    "    for nd in range(nx + 1):\n",
    "        E_is = Es[nu][nd]\n",
    "        E_js = Es[nu - 1][nd]\n",
    "        exp_is = np.array([expntsb**E_i for E_i in E_is])\n",
    "        exp_js = np.array([expnts**E_j for E_j in E_js])\n",
    "        ovs = overlap(nu, nd)\n",
    "        corrs += np.einsum(\"kji, it, jt -> kt\", ovs, exp_is, exp_js)\n",
    "        Z += np.sum(np.exp(-E_is * beta))\n",
    "corrs /= Z"
   ]
  },
  {
   "cell_type": "code",
   "execution_count": 12,
   "metadata": {},
   "outputs": [
    {
     "data": {
      "image/png": "[encoded data removed]",
      "text/plain": [
       "<Figure size 640x480 with 1 Axes>"
      ]
     },
     "metadata": {},
     "output_type": "display_data"
    }
   ],
   "source": [
    "import matplotlib.pyplot as plt\n",
    "\n",
    "plt.clf()\n",
    "plt.yscale(\"log\")\n",
    "for k in range(nx):\n",
    "    # plt.plot(nts, np.exp(-nts*1)*np.exp(nts*2-2))\n",
    "    plt.plot(nts, corrs[k], label=k)\n",
    "plt.legend()\n",
    "plt.show()"
   ]
  },
  {
   "cell_type": "code",
   "execution_count": 13,
   "metadata": {},
   "outputs": [
    {
     "name": "stdout",
     "output_type": "stream",
     "text": [
      "example_four_sites_p.h5\n"
     ]
    }
   ],
   "source": [
    "with open(lat_file, 'r') as stream:\n",
    "    outfile = yaml.safe_load(stream)[\"fileIO\"][\"h5file\"]\n",
    "    print(outfile)"
   ]
  },
  {
   "cell_type": "code",
   "execution_count": 15,
   "metadata": {},
   "outputs": [],
   "source": [
    "with h5.File(\"../build/\" + outfile, \"a\") as h5f:\n",
    "    node = h5f[name]\n",
    "    grp = node.require_group(\"Exact\")\n",
    "    grp = grp.require_group(\"correlators\")\n",
    "    grp = grp.require_group(\"single\")\n",
    "    grp = grp.require_group(\"particle\")\n",
    "    grp.create_dataset(\"k\", data=corrs)"
   ]
  }
 ],
 "metadata": {
  "kernelspec": {
   "display_name": "venv",
   "language": "python",
   "name": "venv"
  },
  "language_info": {
   "codemirror_mode": {
    "name": "ipython",
    "version": 3
   },
   "file_extension": ".py",
   "mimetype": "text/x-python",
   "name": "python",
   "nbconvert_exporter": "python",
   "pygments_lexer": "ipython3",
   "version": "3.12.3"
  }
 },
 "nbformat": 4,
 "nbformat_minor": 2
}
